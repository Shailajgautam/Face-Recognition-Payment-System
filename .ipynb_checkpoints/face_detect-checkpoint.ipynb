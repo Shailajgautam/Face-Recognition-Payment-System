{
 "cells": [
  {
   "cell_type": "code",
   "execution_count": 2,
   "metadata": {},
   "outputs": [],
   "source": [
    "import numpy as np\n",
    "import cv2\n",
    "import tensorflow as tf"
   ]
  },
  {
   "cell_type": "code",
   "execution_count": 20,
   "metadata": {},
   "outputs": [
    {
     "name": "stdout",
     "output_type": "stream",
     "text": [
      "Requirement already satisfied: keras in c:\\users\\shail\\appdata\\local\\programs\\python\\python310\\lib\\site-packages (2.8.0)\n"
     ]
    },
    {
     "name": "stderr",
     "output_type": "stream",
     "text": [
      "\n",
      "[notice] A new release of pip available: 22.3.1 -> 23.0.1\n",
      "[notice] To update, run: python.exe -m pip install --upgrade pip\n"
     ]
    }
   ],
   "source": []
  },
  {
   "cell_type": "code",
   "execution_count": 3,
   "metadata": {},
   "outputs": [],
   "source": [
    "face_model = cv2.CascadeClassifier('./haarcascades/haarcascade_frontalface_default.xml')"
   ]
  },
  {
   "cell_type": "code",
   "execution_count": null,
   "metadata": {},
   "outputs": [],
   "source": [
    "model = tf.keras.models.load_model(\"./masknet.h5\")\n",
    "facerec = tf.keras.models.load_model(\"./facenet_keras.h5\")"
   ]
  },
  {
   "cell_type": "code",
   "execution_count": 10,
   "metadata": {},
   "outputs": [],
   "source": [
    "CLASSES = {\n",
    "    0: \"Please Remove Mask\",\n",
    "    1: \"Good to go\"\n",
    "}\n",
    "\n",
    "NAMES = {\n",
    "    \"Akshay\": [],\n",
    "    \"Karma\": [],\n",
    "    \"Luffy\": [],\n",
    "    \"Priyanshu\": [],\n",
    "    \"Riyesh\": [],\n",
    "    \"Sangam\": [],\n",
    "    \"Sangpo\": [],\n",
    "    \"Sanji\": [],\n",
    "    \"Shailaj\": [],\n",
    "    \"Vibhrat\": [],\n",
    "     \"Zoro\": []\n",
    "}"
   ]
  },
  {
   "cell_type": "code",
   "execution_count": 13,
   "metadata": {},
   "outputs": [],
   "source": [
    "# vid  = cv2.VideoCapture(0)\n",
    "# while True:\n",
    "#       ret, frame = vid.read()\n",
    "#       img = cv2.cvtColor(frame, cv2.IMREAD_GRAYSCALE)\n",
    "\n",
    "#       faces = face_model.detectMultiScale(img,scaleFactor=1.1, minNeighbors=4) #returns a list of (x,y,w,h) tuples\n",
    "\n",
    "#       for (x,y,w,h) in faces:\n",
    "#             cv2.rectangle(img,(x,y),(x+w,y+h),(0,0,255),1)\n",
    "\n",
    "#             label = [0 for i in range(len(faces))]\n",
    "#             new_img = cv2.cvtColor(img, cv2.COLOR_RGB2BGR) #colored output image\n",
    "#             for i in range(len(faces)):\n",
    "#                   (x,y,w,h) = faces[i]\n",
    "#                   crop = new_img[y:y+h,x:x+w]\n",
    "#                   crop = cv2.resize(crop,(128,128))\n",
    "#                   crop = np.reshape(crop,[1,128,128,3])/255.0\n",
    "#                   mask_result = model.predict(crop)\n",
    "#                   class_index = np.argmax(mask_result[0])\n",
    "#                   result = CLASSES[class_index]\n",
    "#                   cv2.putText(img, str(round(mask_result[0][class_index], 2)), (x,y), cv2.FONT_HERSHEY_SIMPLEX, \n",
    "#                               1, (0, 0, 255), 2)\n",
    "#                   cv2.putText(img, result, (x+20,y+20), cv2.FONT_HERSHEY_SIMPLEX, \n",
    "#                               1, (0, 0, 255), 2)\n",
    "      \n",
    "#       cv2.imshow(\"frame\", img)\n",
    "#       if cv2.waitKey(1) & 0xFF == ord('q'):\n",
    "#         break\n",
    "      \n",
    "# cv2.destroyAllWindows()\n"
   ]
  },
  {
   "cell_type": "code",
   "execution_count": 9,
   "metadata": {},
   "outputs": [
    {
     "ename": "NameError",
     "evalue": "name 'CLASSES' is not defined",
     "output_type": "error",
     "traceback": [
      "\u001b[1;31m---------------------------------------------------------------------------\u001b[0m",
      "\u001b[1;31mNameError\u001b[0m                                 Traceback (most recent call last)",
      "\u001b[1;32md:\\IOT_PJ\\face_detect.ipynb Cell 6\u001b[0m in \u001b[0;36m2\n\u001b[0;32m     <a href='vscode-notebook-cell:/d%3A/IOT_PJ/face_detect.ipynb#W5sZmlsZQ%3D%3D?line=17'>18</a>\u001b[0m mask_result \u001b[39m=\u001b[39m model\u001b[39m.\u001b[39mpredict(crop)\n\u001b[0;32m     <a href='vscode-notebook-cell:/d%3A/IOT_PJ/face_detect.ipynb#W5sZmlsZQ%3D%3D?line=18'>19</a>\u001b[0m class_index \u001b[39m=\u001b[39m np\u001b[39m.\u001b[39margmax(mask_result[\u001b[39m0\u001b[39m])\n\u001b[1;32m---> <a href='vscode-notebook-cell:/d%3A/IOT_PJ/face_detect.ipynb#W5sZmlsZQ%3D%3D?line=19'>20</a>\u001b[0m result \u001b[39m=\u001b[39m CLASSES[class_index]\n\u001b[0;32m     <a href='vscode-notebook-cell:/d%3A/IOT_PJ/face_detect.ipynb#W5sZmlsZQ%3D%3D?line=20'>21</a>\u001b[0m cv2\u001b[39m.\u001b[39mputText(img, \u001b[39mstr\u001b[39m(\u001b[39mround\u001b[39m(mask_result[\u001b[39m0\u001b[39m][class_index], \u001b[39m2\u001b[39m)), (x,y), cv2\u001b[39m.\u001b[39mFONT_HERSHEY_SIMPLEX, \n\u001b[0;32m     <a href='vscode-notebook-cell:/d%3A/IOT_PJ/face_detect.ipynb#W5sZmlsZQ%3D%3D?line=21'>22</a>\u001b[0m             \u001b[39m1\u001b[39m, (\u001b[39m0\u001b[39m, \u001b[39m0\u001b[39m, \u001b[39m255\u001b[39m), \u001b[39m2\u001b[39m)\n\u001b[0;32m     <a href='vscode-notebook-cell:/d%3A/IOT_PJ/face_detect.ipynb#W5sZmlsZQ%3D%3D?line=22'>23</a>\u001b[0m cv2\u001b[39m.\u001b[39mputText(img, result, (x\u001b[39m+\u001b[39m\u001b[39m20\u001b[39m,y\u001b[39m+\u001b[39m\u001b[39m20\u001b[39m), cv2\u001b[39m.\u001b[39mFONT_HERSHEY_SIMPLEX, \n\u001b[0;32m     <a href='vscode-notebook-cell:/d%3A/IOT_PJ/face_detect.ipynb#W5sZmlsZQ%3D%3D?line=23'>24</a>\u001b[0m             \u001b[39m1\u001b[39m, (\u001b[39m0\u001b[39m, \u001b[39m0\u001b[39m, \u001b[39m255\u001b[39m), \u001b[39m2\u001b[39m)\n",
      "\u001b[1;31mNameError\u001b[0m: name 'CLASSES' is not defined"
     ]
    }
   ],
   "source": [
    "vid  = cv2.VideoCapture(0)\n",
    "while True:\n",
    "      ret, frame = vid.read()\n",
    "      img = cv2.cvtColor(frame, cv2.IMREAD_GRAYSCALE)\n",
    "\n",
    "      faces = face_model.detectMultiScale(img,scaleFactor=1.1, minNeighbors=4) #returns a list of (x,y,w,h) tuples\n",
    "\n",
    "      for (x,y,w,h) in faces:\n",
    "            cv2.rectangle(img,(x,y),(x+w,y+h),(0,0,255),1)\n",
    "\n",
    "            label = [0 for i in range(len(faces))]\n",
    "            new_img = cv2.cvtColor(img, cv2.COLOR_RGB2BGR) #colored output image\n",
    "            for i in range(len(faces)):\n",
    "                  (x,y,w,h) = faces[i]\n",
    "                  crop = new_img[y:y+h,x:x+w]\n",
    "                  crop = cv2.resize(crop,(128,128))\n",
    "                  crop = np.reshape(crop,[1,128,128,3])/255.0\n",
    "                  mask_result = model.predict(crop)\n",
    "                  class_index = np.argmax(mask_result[0])\n",
    "                  result = CLASSES[class_index]\n",
    "                  cv2.putText(img, str(round(mask_result[0][class_index], 2)), (x,y), cv2.FONT_HERSHEY_SIMPLEX, \n",
    "                              1, (0, 0, 255), 2)\n",
    "                  cv2.putText(img, result, (x+20,y+20), cv2.FONT_HERSHEY_SIMPLEX, \n",
    "                              1, (0, 0, 255), 2)\n",
    "      \n",
    "      cv2.imshow(\"frame\", img)\n",
    "      if cv2.waitKey(1) & 0xFF == ord('q'):\n",
    "        break\n",
    "      \n",
    "cv2.destroyAllWindows()\n"
   ]
  },
  {
   "cell_type": "code",
   "execution_count": null,
   "metadata": {},
   "outputs": [],
   "source": []
  }
 ],
 "metadata": {
  "kernelspec": {
   "display_name": "Python 3 (ipykernel)",
   "language": "python",
   "name": "python3"
  },
  "language_info": {
   "codemirror_mode": {
    "name": "ipython",
    "version": 3
   },
   "file_extension": ".py",
   "mimetype": "text/x-python",
   "name": "python",
   "nbconvert_exporter": "python",
   "pygments_lexer": "ipython3",
   "version": "3.9.16"
  },
  "vscode": {
   "interpreter": {
    "hash": "2aa838f9c0d64fe79790135a1df1a9ee3d0f2c04939dc9b9ea0b3bb53fe26fe6"
   }
  }
 },
 "nbformat": 4,
 "nbformat_minor": 2
}
