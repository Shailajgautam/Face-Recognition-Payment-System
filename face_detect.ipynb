{
 "cells": [
  {
   "cell_type": "code",
   "execution_count": 24,
   "metadata": {},
   "outputs": [],
   "source": [
    "import numpy as np\n",
    "import cv2\n",
    "import tensorflow as tf\n",
    "import serial\n",
    "import requests\n",
    "import time"
   ]
  },
  {
   "cell_type": "code",
   "execution_count": 25,
   "metadata": {},
   "outputs": [],
   "source": [
    "# ser = serial.Serial(\"COM3\", 9600)\n"
   ]
  },
  {
   "cell_type": "code",
   "execution_count": 26,
   "metadata": {},
   "outputs": [],
   "source": [
    "face_model = cv2.CascadeClassifier('./haarcascades/haarcascade_frontalface_default.xml')"
   ]
  },
  {
   "cell_type": "code",
   "execution_count": 27,
   "metadata": {},
   "outputs": [],
   "source": [
    "model = tf.keras.models.load_model(\"./masknet.h5\")\n",
    "# facerec = tf.keras.models.load_model(\"./facerec.h5\")"
   ]
  },
  {
   "cell_type": "code",
   "execution_count": null,
   "metadata": {},
   "outputs": [],
   "source": [
    "CLASSES = {\n",
    "    0: \"Please Remove Mask\",\n",
    "    1: \"Good to go\"\n",
    "}\n",
    "\n",
    "NAMES = {\n",
    "    \"Akshay\": [],\n",
    "    \"Karma\": [],\n",
    "    \"Luffy\": [],\n",
    "    \"Priyanshu\": [],\n",
    "    \"Riyesh\": [],\n",
    "    \"Sangam\": [],\n",
    "    \"Sangpo\": [],\n",
    "    \"Sanji\": [],\n",
    "    \"Shailaj\": [],\n",
    "    \"Vibhrat\": [],\n",
    "     \"Zoro\": []\n",
    "}"
   ]
  },
  {
   "cell_type": "code",
   "execution_count": null,
   "metadata": {},
   "outputs": [],
   "source": [
    "def getSerialOutput():\n",
    "    serialInst = serial.Serial()\n",
    "    serialInst.baudrate = 9600\n",
    "    serialInst.port = 'COM3'\n",
    "    serialInst.open()\n",
    "\n",
    "    while True:\n",
    "        if serialInst.in_waiting:\n",
    "            packet = serialInst.readline().decode('utf-8').rstrip()\n",
    "            serial_data = list(map(float, packet.split(' ')))\n",
    "            data = {\n",
    "            \"distance\": serial_data[0],\n",
    "            }\n",
    "            return data"
   ]
  },
  {
   "cell_type": "code",
   "execution_count": null,
   "metadata": {},
   "outputs": [],
   "source": [
    "vid  = cv2.VideoCapture(0)\n",
    "start_time = time.time()\n",
    "money = '0'\n",
    "while True:\n",
    "      ret, frame = vid.read()\n",
    "      img = cv2.cvtColor(frame, cv2.IMREAD_GRAYSCALE)\n",
    "      faces = face_model.detectMultiScale(img,scaleFactor=1.1, minNeighbors=4) #returns a list of (x,y,w,h) tuples\n",
    "      dist = int(getSerialOutput()[\"distance\"])\n",
    "      \n",
    "      for (x,y,w,h) in faces:\n",
    "            if time.time() - start_time >= 10:\n",
    "                  money = requests.get('http://localhost:5000/deduct').text\n",
    "                  start_time = time.time()\n",
    "            cv2.rectangle(img,(x,y),(x+w,y+h),(0,0,255),1)\n",
    "            label = [0 for i in range(len(faces))]\n",
    "            new_img = cv2.cvtColor(img, cv2.COLOR_RGB2BGR) #colored output image\n",
    "            for i in range(len(faces)):\n",
    "                  (x,y,w,h) = faces[i]\n",
    "                  crop = new_img[y:y+h,x:x+w]\n",
    "                  crop = cv2.resize(crop,(128,128))\n",
    "                  crop = np.reshape(crop,[1,128,128,3])/255.0\n",
    "                  mask_result = model.predict(crop)\n",
    "                  class_index = np.argmax(mask_result[0])\n",
    "                  result = CLASSES[class_index]\n",
    "                  cv2.putText(img, str(round(mask_result[0][class_index], 2)), (x,y), cv2.FONT_HERSHEY_SIMPLEX, \n",
    "                              1, (0, 0, 255), 2)\n",
    "                  cv2.putText(img, result, (x+20,y+20), cv2.FONT_HERSHEY_SIMPLEX, \n",
    "                              1, (0, 0, 255), 2)\n",
    "\n",
    "      cv2.putText(img, money, (20,50), cv2.FONT_HERSHEY_SIMPLEX, \n",
    "                              1, (0, 0, 255), 2)         \n",
    "      cv2.putText(img, str(dist), (20,20), cv2.FONT_HERSHEY_SIMPLEX, \n",
    "                              1, (0, 0, 255), 2)\n",
    "      if(dist>50):\n",
    "            cv2.putText(img, \"Payment done\", (20,80), cv2.FONT_HERSHEY_SIMPLEX, \n",
    "                                    1, (0, 0, 255), 2)\n",
    "      else:\n",
    "            cv2.putText(img, \"Please maintain some distance\", (20,80), cv2.FONT_HERSHEY_SIMPLEX, \n",
    "                                    1, (0, 0, 255), 2)\n",
    "      \n",
    "      cv2.imshow(\"frame\", img)\n",
    "      if cv2.waitKey(1) & 0xFF == ord('q'):\n",
    "        break\n",
    "\n",
    "vid.release() \n",
    "cv2.destroyAllWindows()\n"
   ]
  },
  {
   "cell_type": "code",
   "execution_count": null,
   "metadata": {},
   "outputs": [],
   "source": []
  },
  {
   "cell_type": "code",
   "execution_count": null,
   "metadata": {},
   "outputs": [],
   "source": []
  }
 ],
 "metadata": {
  "kernelspec": {
   "display_name": "Python 3 (ipykernel)",
   "language": "python",
   "name": "python3"
  },
  "language_info": {
   "codemirror_mode": {
    "name": "ipython",
    "version": 3
   },
   "file_extension": ".py",
   "mimetype": "text/x-python",
   "name": "python",
   "nbconvert_exporter": "python",
   "pygments_lexer": "ipython3",
   "version": "3.10.4"
  },
  "vscode": {
   "interpreter": {
    "hash": "2aa838f9c0d64fe79790135a1df1a9ee3d0f2c04939dc9b9ea0b3bb53fe26fe6"
   }
  }
 },
 "nbformat": 4,
 "nbformat_minor": 2
}
